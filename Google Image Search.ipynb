{
 "cells": [
  {
   "cell_type": "code",
   "execution_count": 1,
   "id": "432b7880",
   "metadata": {},
   "outputs": [],
   "source": [
    "# Search and save image"
   ]
  },
  {
   "cell_type": "code",
   "execution_count": 8,
   "id": "dfcad935",
   "metadata": {},
   "outputs": [],
   "source": [
    "from serpapi import GoogleSearch\n",
    "import os"
   ]
  },
  {
   "cell_type": "code",
   "execution_count": 26,
   "id": "b356f2cd",
   "metadata": {},
   "outputs": [],
   "source": [
    "headers={'User-Agent': 'reachmujeebhere@gmail.com'}"
   ]
  },
  {
   "cell_type": "code",
   "execution_count": 32,
   "id": "dc2c0153",
   "metadata": {},
   "outputs": [],
   "source": [
    "SERPAPI_API_KEY = os.getenv('SERPAPI_API_KEY')\n",
    "\n",
    "def image_search(query):\n",
    "#     api_key = SERPAPI_API_KEY\n",
    "    search_params = {\n",
    "        'q': query,\n",
    "        'tbm': 'isch',  # Specifies image search\n",
    "        'api_key': SERPAPI_API_KEY\n",
    "    }\n",
    "    result = GoogleSearch(search_params).get_json()\n",
    "    return sample_json['images_results'][0]['original']"
   ]
  },
  {
   "cell_type": "code",
   "execution_count": 33,
   "id": "be93f911",
   "metadata": {},
   "outputs": [
    {
     "data": {
      "text/plain": [
       "'https://upload.wikimedia.org/wikipedia/commons/9/9a/Bishop_Briggs_cropped.jpg'"
      ]
     },
     "execution_count": 33,
     "metadata": {},
     "output_type": "execute_result"
    }
   ],
   "source": [
    "image_search('Bishop Briggs')"
   ]
  },
  {
   "cell_type": "code",
   "execution_count": 21,
   "id": "2ad7290c",
   "metadata": {},
   "outputs": [],
   "source": [
    "# sample_json = image_search('Bishop Briggs').get_json()"
   ]
  },
  {
   "cell_type": "code",
   "execution_count": 19,
   "id": "491ed3fd",
   "metadata": {},
   "outputs": [
    {
     "data": {
      "text/plain": [
       "dict_keys(['position', 'thumbnail', 'related_content_id', 'serpapi_related_content_link', 'source', 'title', 'link', 'original', 'original_width', 'original_height', 'is_product'])"
      ]
     },
     "execution_count": 19,
     "metadata": {},
     "output_type": "execute_result"
    }
   ],
   "source": [
    "# sample_json['images_results'][0].keys()"
   ]
  },
  {
   "cell_type": "code",
   "execution_count": 34,
   "id": "adb17dda",
   "metadata": {},
   "outputs": [],
   "source": [
    "# for image in sample_json['images_results']:\n",
    "#     print(image['original'], image['original_width'], image['original_height'])"
   ]
  },
  {
   "cell_type": "code",
   "execution_count": 27,
   "id": "5b2ca311",
   "metadata": {},
   "outputs": [
    {
     "name": "stdout",
     "output_type": "stream",
     "text": [
      "Image saved successfully at image.jpg\n"
     ]
    }
   ],
   "source": [
    "# Given a link, save image\n",
    "\n",
    "import requests\n",
    "\n",
    "def save_image_from_link(image_link, file_path):\n",
    "    response = requests.get(image_link, stream=True, headers=headers)\n",
    "    if response.status_code == 200:\n",
    "        with open(file_path, 'wb') as file:\n",
    "            for chunk in response.iter_content(1024):\n",
    "                file.write(chunk)\n",
    "        print(f\"Image saved successfully at {file_path}\")\n",
    "    else:\n",
    "        print(\"Error occurred while downloading the image.\")\n",
    "\n",
    "# Example usage\n",
    "# image_url = 'https://upload.wikimedia.org/wikipedia/commons/9/9a/Bishop_Briggs_cropped.jpg'\n",
    "save_image_from_link(image_url, 'image.jpg')\n"
   ]
  },
  {
   "cell_type": "code",
   "execution_count": 29,
   "id": "98c3f794",
   "metadata": {},
   "outputs": [
    {
     "name": "stdout",
     "output_type": "stream",
     "text": [
      "Image resized and saved successfully.\n"
     ]
    }
   ],
   "source": [
    "# Resize the Image\n",
    "\n",
    "from PIL import Image\n",
    "\n",
    "def resize_image(image_path, output_path, new_width, new_height):\n",
    "    with Image.open(image_path) as image:\n",
    "        resized_image = image.resize((new_width, new_height))\n",
    "        resized_image.save(output_path)\n",
    "        print(\"Image resized and saved successfully.\")\n",
    "\n",
    "# Example usage\n",
    "image_path = 'image.jpg'\n",
    "output_path = 'image2.jpg'\n",
    "new_width = 800\n",
    "new_height = 600\n",
    "resize_image(image_path, output_path, new_width, new_height)\n"
   ]
  },
  {
   "cell_type": "code",
   "execution_count": 31,
   "id": "9bffa164",
   "metadata": {},
   "outputs": [
    {
     "name": "stdout",
     "output_type": "stream",
     "text": [
      "Image resized and saved successfully.\n"
     ]
    }
   ],
   "source": [
    "# Resize the Image keeping aspect ratio\n",
    "\n",
    "from PIL import Image\n",
    "\n",
    "def resize_image(image_path, output_path, max_size):\n",
    "    with Image.open(image_path) as image:\n",
    "        # Calculate new dimensions while preserving aspect ratio\n",
    "        width, height = image.size\n",
    "        aspect_ratio = width / height\n",
    "        if width > height:\n",
    "            new_width = max_size\n",
    "            new_height = int(max_size / aspect_ratio)\n",
    "        else:\n",
    "            new_width = int(max_size * aspect_ratio)\n",
    "            new_height = max_size\n",
    "\n",
    "        # Resize the image\n",
    "        resized_image = image.resize((new_width, new_height))\n",
    "        resized_image.save(output_path)\n",
    "        print(\"Image resized and saved successfully.\")\n",
    "\n",
    "# Example usage\n",
    "image_path = 'image.jpg'\n",
    "output_path = 'image2.jpg'\n",
    "max_size = 200\n",
    "resize_image(image_path, output_path, max_size)\n"
   ]
  },
  {
   "cell_type": "markdown",
   "id": "4d10db70",
   "metadata": {},
   "source": [
    "## Putting it together"
   ]
  },
  {
   "cell_type": "code",
   "execution_count": 47,
   "id": "5d6cd0b4",
   "metadata": {},
   "outputs": [],
   "source": [
    "def image_search(query):\n",
    "    '''Image search function\n",
    "    '''\n",
    "    search_params = {\n",
    "        'q': query,\n",
    "        'tbm': 'isch',  # Specifies image search\n",
    "        'api_key': SERPAPI_API_KEY\n",
    "    }\n",
    "    result = GoogleSearch(search_params).get_json()\n",
    "    urls = [_['original'] for _ in result['images_results'] if _['original'].endswith(\".jpg\")]\n",
    "    return urls[0]\n",
    "\n",
    "def save_image_from_link(image_link, file_path):\n",
    "    response = requests.get(image_link, stream=True, headers=headers)\n",
    "    if response.status_code == 200:\n",
    "        with open(file_path, 'wb') as file:\n",
    "            for chunk in response.iter_content(1024):\n",
    "                file.write(chunk)\n",
    "        print(f\"Image saved successfully at {file_path}\")\n",
    "    else:\n",
    "        print(\"Error occurred while downloading the image.\")\n",
    "        \n",
    "def resize_image(image_path, output_path, max_size):\n",
    "    with Image.open(image_path) as image:\n",
    "        # Calculate new dimensions while preserving aspect ratio\n",
    "        width, height = image.size\n",
    "        aspect_ratio = width / height\n",
    "        if width > height:\n",
    "            new_width = max_size\n",
    "            new_height = int(max_size / aspect_ratio)\n",
    "        else:\n",
    "            new_width = int(max_size * aspect_ratio)\n",
    "            new_height = max_size\n",
    "\n",
    "        # Resize the image\n",
    "        resized_image = image.resize((new_width, new_height))\n",
    "        resized_image.save(output_path)\n",
    "        print(\"Image resized and saved successfully.\")\n",
    "\n",
    "def get_image(query):\n",
    "    file_path = f\"{query.replace(' ','_')}.jpg\"\n",
    "    resized_image_path = f\"{query.replace(' ','_')}_2.jpg\"\n",
    "    save_image_from_link(image_search(query), file_path)\n",
    "    resize_image(file_path, resized_image_path, 200)\n",
    "    return resized_image_path"
   ]
  },
  {
   "cell_type": "code",
   "execution_count": 48,
   "id": "d10a0689",
   "metadata": {},
   "outputs": [
    {
     "name": "stdout",
     "output_type": "stream",
     "text": [
      "Image saved successfully at Bishop_Briggs.jpg\n",
      "Image resized and saved successfully.\n"
     ]
    },
    {
     "data": {
      "text/plain": [
       "'Bishop_Briggs_2.jpg'"
      ]
     },
     "execution_count": 48,
     "metadata": {},
     "output_type": "execute_result"
    }
   ],
   "source": [
    "query = 'Bishop Briggs'\n",
    "\n",
    "# file_path = f\"{query.replace(' ','_')}.jpg\"\n",
    "# resized_image_path = f\"{query.replace(' ','_')}_2.jpg\"\n",
    "\n",
    "\n",
    "# save_image_from_link(image_search(query), file_path)\n",
    "# resize_image(file_path, resized_image_path, 200)\n",
    "\n",
    "get_image(query)"
   ]
  },
  {
   "cell_type": "code",
   "execution_count": null,
   "id": "6e964a7c",
   "metadata": {},
   "outputs": [],
   "source": []
  }
 ],
 "metadata": {
  "kernelspec": {
   "display_name": "Python 3 (ipykernel)",
   "language": "python",
   "name": "python3"
  },
  "language_info": {
   "codemirror_mode": {
    "name": "ipython",
    "version": 3
   },
   "file_extension": ".py",
   "mimetype": "text/x-python",
   "name": "python",
   "nbconvert_exporter": "python",
   "pygments_lexer": "ipython3",
   "version": "3.9.13"
  }
 },
 "nbformat": 4,
 "nbformat_minor": 5
}
