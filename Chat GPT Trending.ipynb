{
 "cells": [
  {
   "cell_type": "code",
   "execution_count": 19,
   "id": "bd054a6d",
   "metadata": {},
   "outputs": [
    {
     "name": "stdout",
     "output_type": "stream",
     "text": [
      "\n",
      "\n",
      "\u001b[1m> Entering new AgentExecutor chain...\u001b[0m\n",
      "\u001b[32;1m\u001b[1;3m I should look for recent news articles\n",
      "Action: Search\n",
      "Action Input: \"Bishop Briggs trending news\"\u001b[0m\n",
      "Observation: \u001b[36;1m\u001b[1;3mBishop Briggs has won 'The Masked Singer US' after being revealed as Medusa. The 30-year-old singer was unmasked during Wednesday (17.05.23) ...\u001b[0m\n",
      "Thought:\u001b[32;1m\u001b[1;3m I now know the final answer\n",
      "Final Answer: Bishop Briggs was trending yesterday because she won 'The Masked Singer US' after being revealed as Medusa.\u001b[0m\n",
      "\n",
      "\u001b[1m> Finished chain.\u001b[0m\n"
     ]
    }
   ],
   "source": [
    "from langchain.agents import load_tools\n",
    "from langchain.agents import initialize_agent\n",
    "from langchain.agents import AgentType\n",
    "from langchain.llms import OpenAI\n",
    "\n",
    "# First, let's load the language model we're going to use to control the agent.\n",
    "llm = OpenAI(temperature=0)\n",
    "\n",
    "# Next, let's load some tools to use. Note that the `llm-math` tool uses an LLM, so we need to pass that in.\n",
    "tools = load_tools([\"serpapi\", \"wikipedia\"], llm=llm)\n",
    "\n",
    "\n",
    "# Finally, let's initialize an agent with the tools, the language model, and the type of agent we want to use.\n",
    "agent = initialize_agent(tools, llm, agent=AgentType.ZERO_SHOT_REACT_DESCRIPTION, verbose=True)\n",
    "\n",
    "# Now let's test it out!\n",
    "query = \"Bishop Briggs\"\n",
    "text = agent.run(f\"Why was {query} trending yesterday?, please provide as much context as possible\")"
   ]
  },
  {
   "cell_type": "code",
   "execution_count": 20,
   "id": "4a94418e",
   "metadata": {},
   "outputs": [
    {
     "data": {
      "text/plain": [
       "\"Bishop Briggs was trending yesterday because she won 'The Masked Singer US' after being revealed as Medusa.\""
      ]
     },
     "execution_count": 20,
     "metadata": {},
     "output_type": "execute_result"
    }
   ],
   "source": [
    "text"
   ]
  },
  {
   "cell_type": "code",
   "execution_count": 22,
   "id": "757266de",
   "metadata": {},
   "outputs": [
    {
     "data": {
      "text/plain": [
       "['Bishop Briggs',\n",
       " 'Superstar Billy Graham',\n",
       " 'Jimmy Butler',\n",
       " 'Killers of the Flower Moon (film)',\n",
       " 'Anna Nicole Smith']"
      ]
     },
     "execution_count": 22,
     "metadata": {},
     "output_type": "execute_result"
    }
   ],
   "source": [
    "articles = ['Bishop_Briggs','Superstar_Billy_Graham','Jimmy_Butler','Killers_of_the_Flower_Moon_(film)',\n",
    "            'Anna_Nicole_Smith']\n",
    "\n",
    "articles = [_.replace('_',' ') for _ in articles]"
   ]
  },
  {
   "cell_type": "code",
   "execution_count": 23,
   "id": "2422b202",
   "metadata": {},
   "outputs": [
    {
     "name": "stdout",
     "output_type": "stream",
     "text": [
      "\n",
      "\n",
      "\u001b[1m> Entering new AgentExecutor chain...\u001b[0m\n",
      "\u001b[32;1m\u001b[1;3m I should look for recent news articles\n",
      "Action: Search\n",
      "Action Input: \"Bishop Briggs trending news\"\u001b[0m\n",
      "Observation: \u001b[36;1m\u001b[1;3mBishop Briggs spoke to CinemaBlend about the challenges of The Masked Singer, and doing it all with an infant child at home.\u001b[0m\n",
      "Thought:\u001b[32;1m\u001b[1;3m I should look for more information about the interview\n",
      "Action: Search\n",
      "Action Input: \"Bishop Briggs interview CinemaBlend\"\u001b[0m\n",
      "Observation: \u001b[36;1m\u001b[1;3mBishop Briggs spoke to CinemaBlend about the challenges of The Masked Singer, and doing it all with an infant child at home.\u001b[0m\n",
      "Thought:\u001b[32;1m\u001b[1;3m I now know the final answer\n",
      "Final Answer: Bishop Briggs was trending yesterday because she spoke to CinemaBlend about the challenges of The Masked Singer, and doing it all with an infant child at home.\u001b[0m\n",
      "\n",
      "\u001b[1m> Finished chain.\u001b[0m\n",
      "Bishop Briggs was trending yesterday because she spoke to CinemaBlend about the challenges of The Masked Singer, and doing it all with an infant child at home.\n",
      "\n",
      "\n",
      "\u001b[1m> Entering new AgentExecutor chain...\u001b[0m\n",
      "\u001b[32;1m\u001b[1;3m I should look for recent news about Superstar Billy Graham\n",
      "Action: Search\n",
      "Action Input: \"Superstar Billy Graham news\"\u001b[0m\n",
      "Observation: \u001b[36;1m\u001b[1;3mWWE Hall of Famer \"Superstar\" Billy Graham, who revolutionized the on-screen characters of professional wrestlers, has died at the age of 79 ...\u001b[0m\n",
      "Thought:\u001b[32;1m\u001b[1;3m I should look for more information about Superstar Billy Graham\n",
      "Action: Wikipedia\n",
      "Action Input: \"Superstar Billy Graham\"\u001b[0m\n",
      "Observation: \u001b[33;1m\u001b[1;3mPage: \"Superstar\" Billy Graham\n",
      "Summary: Eldridge Wayne Coleman (June 7, 1943 – May 17, 2023), better known by his ring name \"Superstar\" Billy Graham, was an American professional wrestler. He gained recognition for his tenure as the WWWF Heavyweight Champion in 1977–1978. He was a three-time world champion in major professional wrestling promotions. As an award-winning bodybuilder, he was a training partner and close friend of Arnold Schwarzenegger. He was most remembered for revolutionizing the interview, which resembled the interviewing style of boxer Muhammad Ali, and physique aspects of the professional wrestling industry, and for his charismatic performance style.\n",
      "\n",
      "Page: Dr. Jerry Graham\n",
      "Summary: Jerry Martin Graham (born Jerry Martin Matthews, December 16, 1928 – January 24, 1997) was an American professional wrestler. He is best known for his time spent in the World Wide Wrestling Federation and as the founder of the Graham wrestling family.\n",
      "\n",
      "Page: Ivan Putski\n",
      "Summary: Józef Bednarski (born January 21, 1941) is a Polish/American former professional wrestler and bodybuilder, best known by the ring name Ivan Putski. He was given the nicknames \"The Polish Hammer\" and \"Polish Power\".\n",
      "Putski is a former WWF World Tag Team Champion with Tito Santana. He had a famous feud with Superstar Billy Graham over the WWF Championship, which led to many pose-downs, arm wrestling bouts, and long matches between the two. Other rivals included The Iron Sheik, Ivan Koloff, and Jesse Ventura, who would refer to Putski as \"Puduski\" when commentating for the WWF. Putski was the first Polish wrestler to perform in the WWF (now WWE).\u001b[0m\n",
      "Thought:\u001b[32;1m\u001b[1;3m I now know the final answer\n",
      "Final Answer: Superstar Billy Graham was trending yesterday due to his death on May 17, 2023. He was a professional wrestler and bodybuilder who revolutionized the on-screen characters of professional wrestlers, was a three-time world champion in major professional wrestling promotions, and was a training partner and close friend of Arnold Schwarzenegger. He had a famous feud with Ivan Putski over the WWF Championship, which led to many pose-downs, arm wrestling bouts, and long matches between the two.\u001b[0m\n",
      "\n",
      "\u001b[1m> Finished chain.\u001b[0m\n",
      "Superstar Billy Graham was trending yesterday due to his death on May 17, 2023. He was a professional wrestler and bodybuilder who revolutionized the on-screen characters of professional wrestlers, was a three-time world champion in major professional wrestling promotions, and was a training partner and close friend of Arnold Schwarzenegger. He had a famous feud with Ivan Putski over the WWF Championship, which led to many pose-downs, arm wrestling bouts, and long matches between the two.\n",
      "\n",
      "\n",
      "\u001b[1m> Entering new AgentExecutor chain...\u001b[0m\n",
      "\u001b[32;1m\u001b[1;3m I should look for recent news about Jimmy Butler\n",
      "Action: Search\n",
      "Action Input: \"Jimmy Butler news\"\u001b[0m\n",
      "Observation: \u001b[36;1m\u001b[1;3mGrant Williams poked the bear, and Jimmy Butler made him - and the Celtics - pay. Dan Wolken. USA TODAY.\u001b[0m\n",
      "Thought:\u001b[32;1m\u001b[1;3m I should look for more information about the incident\n",
      "Action: Wikipedia\n",
      "Action Input: \"Grant Williams\"\u001b[0m"
     ]
    },
    {
     "name": "stderr",
     "output_type": "stream",
     "text": [
      "/Users/mujeeblawal/Portfolio/AutomatedReports/venv/lib/python3.9/site-packages/wikipedia/wikipedia.py:389: GuessedAtParserWarning: No parser was explicitly specified, so I'm using the best available HTML parser for this system (\"html.parser\"). This usually isn't a problem, but if you run this code on another system, or in a different virtual environment, it may use a different parser and behave differently.\n",
      "\n",
      "The code that caused this warning is on line 389 of the file /Users/mujeeblawal/Portfolio/AutomatedReports/venv/lib/python3.9/site-packages/wikipedia/wikipedia.py. To get rid of this warning, pass the additional argument 'features=\"html.parser\"' to the BeautifulSoup constructor.\n",
      "\n",
      "  lis = BeautifulSoup(html).find_all('li')\n"
     ]
    },
    {
     "name": "stdout",
     "output_type": "stream",
     "text": [
      "\n",
      "Observation: \u001b[33;1m\u001b[1;3mPage: Grant Williams (basketball)\n",
      "Summary: Grant Dean Williams (born November 30, 1998) is an American professional basketball player for the Boston Celtics of the National Basketball Association (NBA). He played college basketball for the Tennessee Volunteers. He was drafted 22nd overall in the 2019 NBA draft by the Celtics and reached the NBA Finals with the team in 2022.\n",
      "\n",
      "\n",
      "\n",
      "Page: Grant Williams (actor)\n",
      "Summary: Grant Williams, born John Joseph Williams (August 18, 1931 – July 28, 1985) was an American film, theater, and television actor. He is best remembered for his portrayal of Scott Carey in the science fiction film The Incredible Shrinking Man (1957), and for his starring role as Greg MacKenzie on Hawaiian Eye from 1960 through 1963.\u001b[0m\n",
      "Thought:\u001b[32;1m\u001b[1;3m I now know the final answer\n",
      "Final Answer: Jimmy Butler was trending yesterday because he made Grant Williams, a player for the Boston Celtics, pay for poking him during a game.\u001b[0m\n",
      "\n",
      "\u001b[1m> Finished chain.\u001b[0m\n",
      "Jimmy Butler was trending yesterday because he made Grant Williams, a player for the Boston Celtics, pay for poking him during a game.\n",
      "\n",
      "\n",
      "\u001b[1m> Entering new AgentExecutor chain...\u001b[0m\n",
      "\u001b[32;1m\u001b[1;3m I should look for recent news about the film\n",
      "Action: Search\n",
      "Action Input: \"Killers of the Flower Moon (film)\" news\u001b[0m\n",
      "Observation: \u001b[36;1m\u001b[1;3mParmount Pictures will open Killers Of The Flower Moon limited on October 6 and wide on October 20.\u001b[0m\n",
      "Thought:\u001b[32;1m\u001b[1;3m I should look for more information about the film\n",
      "Action: Wikipedia\n",
      "Action Input: \"Killers of the Flower Moon (film)\"\u001b[0m\n",
      "Observation: \u001b[33;1m\u001b[1;3mPage: Killers of the Flower Moon (film)\n",
      "Summary: Killers of the Flower Moon is a 2023 American epic Western crime drama film directed by Martin Scorsese, from a screenplay he co-wrote with Eric Roth, based on the best-selling 2017 non-fiction book Killers of the Flower Moon: The Osage Murders and the Birth of the FBI by David Grann. Its plot centers on a series of Oklahoma murders in the Osage Nation during the 1920s, committed after oil was discovered on tribal land. The film stars Leonardo DiCaprio, who also serves as an executive producer, alongside Robert De Niro, Lily Gladstone, Jesse Plemons, Brendan Fraser, and John Lithgow. It marks the seventh collaboration between Scorsese and DiCaprio as well as the eleventh collaboration between Scorsese and De Niro.Development on the film began in March 2016 when Imperative Entertainment won the rights to adapt the book. Scorsese and DiCaprio were attached to the film in 2017, with production initially expected to begin in early 2018. Following several pushbacks and delays in response to the COVID-19 pandemic, production was scheduled to commence in February 2021 with Apple TV+ now confirmed to finance and distribute the film alongside Paramount Pictures. Principal photography ultimately took place in Osage County and Washington County between the spring and fall of 2021. The film is produced by Scorsese's Sikelia Productions and DiCaprio's Appian Way Productions with its $200 million budget reportedly the largest amount ever spent on a film shot in Oklahoma.Killers of the Flower Moon had its world premiere at the 76th Cannes Film Festival on May 20, 2023, and is scheduled to be released in select cinemas on October 6, 2023, before a wide release in the United States on October 20, 2023 by Paramount Pictures. It is also scheduled for an unspecified streaming release on Apple TV+.\n",
      "\n",
      "\n",
      "\n",
      "Page: Killers of the Flower Moon\n",
      "Summary: Killers of the Flower Moon: The Osage Murders and the Birth of the FBI is the third non-fiction book by the American journalist David Grann. The book was initially released on April 18, 2017 by Doubleday. Time magazine listed Killers of the Flower Moon as one of its top ten non-fiction books of 2017. A film adaptation directed by Martin Scorsese and starring  Leonardo DiCaprio, Robert De Niro, Lily Gladstone, and Jesse Plemons is set for a Fall 2023 release.\n",
      "\n",
      "\n",
      "\n",
      "Page: J. J. Abrams's unrealized projects\n",
      "Summary: The following is a list of unproduced J. J. Abrams projects in roughly chronological order. During a career that has spanned over 30 years, J. J. Abrams has worked on projects which never progressed beyond the pre-production stage under his direction.\u001b[0m\n",
      "Thought:\u001b[32;1m\u001b[1;3m I now know the final answer\n",
      "Final Answer: Killers of the Flower Moon (film) was trending yesterday because Paramount Pictures will open the film in limited theaters on October 6, 2023 and wide on October 20, 2023. The film is directed by Martin Scorsese and stars Leonardo DiCaprio, Robert De Niro, Lily Gladstone, and Jesse Plemons. It is based on the 2017 non-fiction book Killers of the Flower Moon: The Osage Murders and the Birth of the FBI by David Grann.\u001b[0m\n",
      "\n",
      "\u001b[1m> Finished chain.\u001b[0m\n",
      "Killers of the Flower Moon (film) was trending yesterday because Paramount Pictures will open the film in limited theaters on October 6, 2023 and wide on October 20, 2023. The film is directed by Martin Scorsese and stars Leonardo DiCaprio, Robert De Niro, Lily Gladstone, and Jesse Plemons. It is based on the 2017 non-fiction book Killers of the Flower Moon: The Osage Murders and the Birth of the FBI by David Grann.\n",
      "\n",
      "\n",
      "\u001b[1m> Entering new AgentExecutor chain...\u001b[0m\n",
      "\u001b[32;1m\u001b[1;3m I should look for recent news about Anna Nicole Smith\n",
      "Action: Search\n",
      "Action Input: \"Anna Nicole Smith news\"\u001b[0m\n",
      "Observation: \u001b[36;1m\u001b[1;3mA new documentary is shedding light into Anna Nicole Smith's turbulent life. The former model and socialite died in 2007 at age 39 from a ...\u001b[0m\n",
      "Thought:\u001b[32;1m\u001b[1;3m I should look for more information about the documentary\n",
      "Action: Search\n",
      "Action Input: \"Anna Nicole Smith documentary\"\u001b[0m\n",
      "Observation: \u001b[36;1m\u001b[1;3mFrom director Ursula Macfarlane (Untouchable) and producer Alexandra Lacey comes an unflinching and humanizing examination of the life, ...\u001b[0m\n",
      "Thought:\u001b[32;1m\u001b[1;3m I now know the final answer\n",
      "Final Answer: Anna Nicole Smith was trending yesterday due to the release of a new documentary about her life, directed by Ursula Macfarlane and produced by Alexandra Lacey.\u001b[0m\n",
      "\n",
      "\u001b[1m> Finished chain.\u001b[0m\n",
      "Anna Nicole Smith was trending yesterday due to the release of a new documentary about her life, directed by Ursula Macfarlane and produced by Alexandra Lacey.\n"
     ]
    }
   ],
   "source": [
    "\n",
    "topics = []\n",
    "texts = []\n",
    "for article in articles:\n",
    "    topic = article.replace('_',' ')\n",
    "    topics.append(topic)\n",
    "    text = agent.run(f\"Why was {topic} trending yesterday?, please provide as much context as possible\")\n",
    "    texts.append(text)\n",
    "    print(text)"
   ]
  },
  {
   "cell_type": "code",
   "execution_count": 24,
   "id": "bbbaf52c",
   "metadata": {},
   "outputs": [
    {
     "data": {
      "text/plain": [
       "['Bishop Briggs',\n",
       " 'Superstar Billy Graham',\n",
       " 'Jimmy Butler',\n",
       " 'Killers of the Flower Moon (film)',\n",
       " 'Anna Nicole Smith']"
      ]
     },
     "execution_count": 24,
     "metadata": {},
     "output_type": "execute_result"
    }
   ],
   "source": [
    "topics"
   ]
  },
  {
   "cell_type": "code",
   "execution_count": 25,
   "id": "92663d96",
   "metadata": {},
   "outputs": [
    {
     "data": {
      "text/plain": [
       "['Bishop Briggs was trending yesterday because she spoke to CinemaBlend about the challenges of The Masked Singer, and doing it all with an infant child at home.',\n",
       " 'Superstar Billy Graham was trending yesterday due to his death on May 17, 2023. He was a professional wrestler and bodybuilder who revolutionized the on-screen characters of professional wrestlers, was a three-time world champion in major professional wrestling promotions, and was a training partner and close friend of Arnold Schwarzenegger. He had a famous feud with Ivan Putski over the WWF Championship, which led to many pose-downs, arm wrestling bouts, and long matches between the two.',\n",
       " 'Jimmy Butler was trending yesterday because he made Grant Williams, a player for the Boston Celtics, pay for poking him during a game.',\n",
       " 'Killers of the Flower Moon (film) was trending yesterday because Paramount Pictures will open the film in limited theaters on October 6, 2023 and wide on October 20, 2023. The film is directed by Martin Scorsese and stars Leonardo DiCaprio, Robert De Niro, Lily Gladstone, and Jesse Plemons. It is based on the 2017 non-fiction book Killers of the Flower Moon: The Osage Murders and the Birth of the FBI by David Grann.',\n",
       " 'Anna Nicole Smith was trending yesterday due to the release of a new documentary about her life, directed by Ursula Macfarlane and produced by Alexandra Lacey.']"
      ]
     },
     "execution_count": 25,
     "metadata": {},
     "output_type": "execute_result"
    }
   ],
   "source": [
    "texts"
   ]
  },
  {
   "cell_type": "code",
   "execution_count": null,
   "id": "5795f3b1",
   "metadata": {},
   "outputs": [],
   "source": []
  }
 ],
 "metadata": {
  "kernelspec": {
   "display_name": "Python 3 (ipykernel)",
   "language": "python",
   "name": "python3"
  },
  "language_info": {
   "codemirror_mode": {
    "name": "ipython",
    "version": 3
   },
   "file_extension": ".py",
   "mimetype": "text/x-python",
   "name": "python",
   "nbconvert_exporter": "python",
   "pygments_lexer": "ipython3",
   "version": "3.9.13"
  }
 },
 "nbformat": 4,
 "nbformat_minor": 5
}
